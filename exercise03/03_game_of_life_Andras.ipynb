{
 "cells": [
  {
   "cell_type": "markdown",
   "metadata": {},
   "source": [
    "### 3. lecke: Sejtautomata készítése\n",
    "\n",
    "**FELADAT** Szimuláljuk le egy sejtkolónia életét, a következő szabályok alapján:\n",
    "1. A sejt elpusztul, ha kettőnél kevesebb szomszédja van (elszigetelődés) \n",
    "2. A sejt túléli a kört, ha két vagy három szomszédja van.\n",
    "3. A sejt elpusztul, ha háromnál több szomszédja van(túlnépesedés).\n",
    "4. Új sejt születik minden olyan cellában, melynek környezetében pontosan három sejt található."
   ]
  },
  {
   "cell_type": "markdown",
   "metadata": {},
   "source": [
    "![Szabályok](game-of-life-rules.jpg)\n",
    "\n",
    "Wikipedia:\n",
    "https://en.wikipedia.org/wiki/Conway's_Game_of_Life\n",
    "\n",
    "Epic:\n",
    "https://www.youtube.com/watch?v=C2vgICfQawE\n",
    "\n",
    "Színes:\n",
    "https://youtu.be/WqNockPqPBg\n",
    "\n",
    "Kapcsolat a hackerek világával:\n",
    "http://www.catb.org/hacker-emblem/faqs.html\n",
    "![Glider](https://upload.wikimedia.org/wikipedia/commons/4/45/Glider.svg)"
   ]
  },
  {
   "cell_type": "markdown",
   "metadata": {},
   "source": [
    "## Fájlból olvasás"
   ]
  },
  {
   "cell_type": "markdown",
   "metadata": {},
   "source": [
    "Az első szabályhoz íme a bemeneti fájlunk"
   ]
  },
  {
   "cell_type": "code",
   "execution_count": 3,
   "metadata": {},
   "outputs": [
    {
     "name": "stderr",
     "output_type": "stream",
     "text": [
      "'cat' is not recognized as an internal or external command,\n",
      "operable program or batch file.\n"
     ]
    }
   ],
   "source": [
    "!cat 1.in"
   ]
  },
  {
   "cell_type": "markdown",
   "metadata": {},
   "source": [
    "Megnyitjuk a fájlt, és beolvassuk a tartalmát. Ez a régi fajta, C -s, C++ -os megközelítés:"
   ]
  },
  {
   "cell_type": "code",
   "execution_count": 2,
   "metadata": {},
   "outputs": [],
   "source": [
    "def fread(file_name):\n",
    "    data = None\n",
    "    print('1. start')\n",
    "    try:\n",
    "        f = open(file_name,\"r\")\n",
    "        if f:\n",
    "            print('2. olvasas')\n",
    "            data = f.read()\n",
    "    except FileNotFoundError:\n",
    "        pass\n",
    "    print('3. vege')\n",
    "    return data"
   ]
  },
  {
   "cell_type": "code",
   "execution_count": 3,
   "metadata": {},
   "outputs": [
    {
     "name": "stdout",
     "output_type": "stream",
     "text": [
      "1. start\n",
      "2. olvasas\n",
      "3. vege\n",
      "4. data:\n",
      "0 0 0\n",
      "0 1 0\n",
      "0 0 1\n",
      "\n"
     ]
    }
   ],
   "source": [
    "d = fread(\"1.in\")\n",
    "print('4. data:')\n",
    "print(d)"
   ]
  },
  {
   "cell_type": "code",
   "execution_count": 4,
   "metadata": {},
   "outputs": [
    {
     "name": "stdout",
     "output_type": "stream",
     "text": [
      "1. start\n",
      "3. vege\n",
      "data:\n",
      "None\n"
     ]
    }
   ],
   "source": [
    "d = fread(\"1x.in\")\n",
    "print('data:')\n",
    "print(d)"
   ]
  },
  {
   "cell_type": "markdown",
   "metadata": {},
   "source": [
    "A with (pythonos megközelítés) sokkal átláthatóbb:"
   ]
  },
  {
   "cell_type": "code",
   "execution_count": 4,
   "metadata": {},
   "outputs": [],
   "source": [
    "def fread(file_name):\n",
    "    data = None\n",
    "    print('1. start')\n",
    "    try:\n",
    "        with open(file_name,\"r\") as file:\n",
    "            print('2. olvasas')\n",
    "            data = file.read()\n",
    "    except FileNotFoundError:\n",
    "        pass\n",
    "    print('3. vege')\n",
    "    return data"
   ]
  },
  {
   "cell_type": "code",
   "execution_count": 5,
   "metadata": {},
   "outputs": [
    {
     "name": "stdout",
     "output_type": "stream",
     "text": [
      "1. start\n",
      "2. olvasas\n",
      "3. vege\n",
      "4. data:\n",
      "0 0 0\n",
      "0 1 0\n",
      "0 0 1\n",
      "\n"
     ]
    }
   ],
   "source": [
    "d=fread(\"1.in\")\n",
    "print('4. data:')\n",
    "print(d)"
   ]
  },
  {
   "cell_type": "code",
   "execution_count": 7,
   "metadata": {},
   "outputs": [
    {
     "name": "stdout",
     "output_type": "stream",
     "text": [
      "1. start\n",
      "2. olvasas\n",
      "3. vege\n",
      "4. data:\n",
      "0 0 0\n",
      "0 1 0\n",
      "0 0 1\n",
      "\n"
     ]
    }
   ],
   "source": [
    "d=fread(\"1.in\")\n",
    "print('4. data:')\n",
    "print(d)"
   ]
  },
  {
   "cell_type": "code",
   "execution_count": 8,
   "metadata": {},
   "outputs": [],
   "source": [
    "def fread(file_name):\n",
    "    data = None\n",
    "    try:\n",
    "        with open(file_name,\"r\") as file:\n",
    "            data = file.read()\n",
    "    except FileNotFoundError:\n",
    "        pass\n",
    "    return data"
   ]
  },
  {
   "cell_type": "markdown",
   "metadata": {},
   "source": [
    "Ha viszont később, a többi cellában is szeretnénk használni a beolvasott adatokat, akkor muszáj egy változót létrehozni"
   ]
  },
  {
   "cell_type": "code",
   "execution_count": 9,
   "metadata": {},
   "outputs": [
    {
     "data": {
      "text/plain": [
       "'0 0 0\\n0 1 0\\n0 0 1\\n'"
      ]
     },
     "execution_count": 9,
     "metadata": {},
     "output_type": "execute_result"
    }
   ],
   "source": [
    "data = fread(\"1.in\")\n",
    "data"
   ]
  },
  {
   "cell_type": "markdown",
   "metadata": {},
   "source": [
    "Ez egy string lesz, amit még fel kell darabolnunk a sorvégek alapján ... miután lecsupaszítottuk"
   ]
  },
  {
   "cell_type": "code",
   "execution_count": 10,
   "metadata": {},
   "outputs": [
    {
     "data": {
      "text/plain": [
       "'0 0 0\\n0 1 0\\n0 0 1'"
      ]
     },
     "execution_count": 10,
     "metadata": {},
     "output_type": "execute_result"
    }
   ],
   "source": [
    "stripped = data.strip()\n",
    "stripped"
   ]
  },
  {
   "cell_type": "code",
   "execution_count": 11,
   "metadata": {},
   "outputs": [
    {
     "data": {
      "text/plain": [
       "['0 0 0', '0 1 0', '0 0 1']"
      ]
     },
     "execution_count": 11,
     "metadata": {},
     "output_type": "execute_result"
    }
   ],
   "source": [
    "lines = stripped.split(\"\\n\")\n",
    "lines"
   ]
  },
  {
   "cell_type": "markdown",
   "metadata": {},
   "source": [
    "Tudjuk ezt gyorsabban is, és sokkal effektívebben:"
   ]
  },
  {
   "cell_type": "code",
   "execution_count": 12,
   "metadata": {},
   "outputs": [
    {
     "data": {
      "text/plain": [
       "['0 0 0\\n', '0 1 0\\n', '0 0 1\\n']"
      ]
     },
     "execution_count": 12,
     "metadata": {},
     "output_type": "execute_result"
    }
   ],
   "source": [
    "with open(\"1.in\") as f:\n",
    "    lines = f.readlines()\n",
    "lines"
   ]
  },
  {
   "cell_type": "markdown",
   "metadata": {},
   "source": [
    "Ha még a sorokat is feldaraboljuk a space alapján, akkor a következőt kapjuk"
   ]
  },
  {
   "cell_type": "code",
   "execution_count": 13,
   "metadata": {},
   "outputs": [
    {
     "name": "stdout",
     "output_type": "stream",
     "text": [
      "['0', '0', '0\\n']\n",
      "['0', '1', '0\\n']\n",
      "['0', '0', '1\\n']\n"
     ]
    }
   ],
   "source": [
    "for line in lines:\n",
    "    print(line.split(' '))"
   ]
  },
  {
   "cell_type": "markdown",
   "metadata": {},
   "source": [
    "... a strip segít, ha space alapján splitelünk ..."
   ]
  },
  {
   "cell_type": "code",
   "execution_count": 14,
   "metadata": {},
   "outputs": [
    {
     "name": "stdout",
     "output_type": "stream",
     "text": [
      "['0', '0', '0']\n",
      "['0', '1', '0']\n",
      "['0', '0', '1']\n"
     ]
    }
   ],
   "source": [
    "for line in lines:\n",
    "    print(line.strip().split(' '))"
   ]
  },
  {
   "cell_type": "markdown",
   "metadata": {},
   "source": [
    "... vagy egyszerűen whitespace alapján splitelünk"
   ]
  },
  {
   "cell_type": "code",
   "execution_count": 15,
   "metadata": {},
   "outputs": [
    {
     "name": "stdout",
     "output_type": "stream",
     "text": [
      "['0', '0', '0']\n",
      "['0', '1', '0']\n",
      "['0', '0', '1']\n"
     ]
    }
   ],
   "source": [
    "for line in lines:\n",
    "    print(line.split())"
   ]
  },
  {
   "cell_type": "markdown",
   "metadata": {},
   "source": [
    "Ha minden egyes sorban kiírjuk a talált számokat egyenként:"
   ]
  },
  {
   "cell_type": "code",
   "execution_count": 16,
   "metadata": {},
   "outputs": [
    {
     "name": "stdout",
     "output_type": "stream",
     "text": [
      "0\n",
      "0\n",
      "0\n",
      "0\n",
      "1\n",
      "0\n",
      "0\n",
      "0\n",
      "1\n"
     ]
    }
   ],
   "source": [
    "for line in lines:\n",
    "    for cell in line.split():\n",
    "        print(cell)"
   ]
  },
  {
   "cell_type": "code",
   "execution_count": 17,
   "metadata": {},
   "outputs": [
    {
     "data": {
      "text/plain": [
       "['0', '0', '0', '0', '1', '0', '0', '0', '1']"
      ]
     },
     "execution_count": 17,
     "metadata": {},
     "output_type": "execute_result"
    }
   ],
   "source": [
    "r = []\n",
    "for line in lines:\n",
    "    for cell in line.split():\n",
    "        r.append(cell)\n",
    "r"
   ]
  },
  {
   "cell_type": "markdown",
   "metadata": {},
   "source": [
    "Nézzük, hol vannak 1-esek:"
   ]
  },
  {
   "cell_type": "code",
   "execution_count": 18,
   "metadata": {},
   "outputs": [
    {
     "name": "stdout",
     "output_type": "stream",
     "text": [
      "(1, 1)\n",
      "(2, 2)\n"
     ]
    }
   ],
   "source": [
    "y = 0\n",
    "for line in lines:\n",
    "    x = 0\n",
    "    for cell in line.split():\n",
    "        if cell == '1':\n",
    "            print('({}, {})'.format(x,y))\n",
    "        x += 1\n",
    "    y += 1"
   ]
  },
  {
   "cell_type": "markdown",
   "metadata": {},
   "source": [
    "Gyűjtsük össze tuple-ök listájába, hol vannak 1-esek:"
   ]
  },
  {
   "cell_type": "code",
   "execution_count": 23,
   "metadata": {},
   "outputs": [
    {
     "data": {
      "text/plain": [
       "[(1, 1), (2, 2)]"
      ]
     },
     "execution_count": 23,
     "metadata": {},
     "output_type": "execute_result"
    }
   ],
   "source": [
    "cell_pos_list = []\n",
    "y = 0\n",
    "for line in lines:\n",
    "    x = 0\n",
    "    for cell in line.split():\n",
    "        if cell == '1':\n",
    "            cell_pos_list.append((x,y))\n",
    "        x += 1\n",
    "    y += 1\n",
    "cell_pos_list"
   ]
  },
  {
   "cell_type": "markdown",
   "metadata": {},
   "source": [
    "Gábor kifogásolta, hogy a pozíciókkal megyünk tovább. Egyrészt a videós példákban láttuk, hogy elég ritkán vannak a sejtek, másrészt a szabályok implementációja során belefutunk pár olyan problémába, amikor ez a fajta absztrakció nagyon jól jön majd, és a python beépített in-kulcsszava, a pozíciók listában tárolása és a pozíciók tuple-természete segít a feladatunk megoldásában. \n",
    "\n",
    "Azt se felejtsük el, hogy a definíció alapján egy végtelen 2D-s síkon vagyunk, és nem szeretnénk magunkat lekorlátozni egy előre foglalt mátrixba(amit aztán később újra kell foglalnunk, hogyha a sejtjeink kifejlődnek a határain kívülre). A rajzolásnál látjuk csak igazán, hogy mindig csak a világunk egy részét rajzoljuk csak ki, a többi részével nem törődünk."
   ]
  },
  {
   "cell_type": "markdown",
   "metadata": {},
   "source": [
    "Szükségünk lesz a cellák pozíciójának szélső értékeire:"
   ]
  },
  {
   "cell_type": "code",
   "execution_count": 24,
   "metadata": {},
   "outputs": [],
   "source": [
    "def get_extremes(cells):\n",
    "    xmin = 0\n",
    "    ymin = 0\n",
    "    xmax = 0\n",
    "    ymax = 0\n",
    "    for x,y in cells:\n",
    "        if x < xmin:\n",
    "            xmin = x\n",
    "        if xmax < x:\n",
    "            xmax = x\n",
    "        if y < ymin:\n",
    "            ymin = x\n",
    "        if ymax < y:\n",
    "            ymax = y\n",
    "    return (xmin, ymin, xmax, ymax)"
   ]
  },
  {
   "cell_type": "markdown",
   "metadata": {},
   "source": [
    "Egy kis rajzolás is segíthet, kirajzoljuk a sejtek helyeit, majd végigmegyünk a sejtek pozícióin"
   ]
  },
  {
   "cell_type": "code",
   "execution_count": 25,
   "metadata": {},
   "outputs": [],
   "source": [
    "from PIL import Image, ImageFont, ImageDraw, ImageEnhance\n",
    "cellsize = 20\n",
    "\n",
    "def draw_cells(cells):\n",
    "    xmin, ymin, xmax, ymax = get_extremes(cells)\n",
    "    im_size = tuple(cellsize*t+1 for t in (xmax - xmin + 1, ymax - ymin + 1))\n",
    "    im = Image.new(\"RGBA\",size=im_size)\n",
    "    draw = ImageDraw.Draw(im)\n",
    "    for x in range(0, im_size[0]+1, cellsize):\n",
    "        draw.line((x,0,x,im.size[1]), fill=\"grey\")\n",
    "    for y in range(0, im_size[1]+1, cellsize):\n",
    "        draw.line((0,y,im.size[0],y), fill=\"grey\")\n",
    "    for cell in cells:\n",
    "        cellx, celly = cell\n",
    "        cx = cellx * cellsize\n",
    "        cy = celly * cellsize\n",
    "        draw.rectangle((cx+2,cy+2,cx+cellsize-2, cy+cellsize-2), fill=\"black\")\n",
    "    return im"
   ]
  },
  {
   "cell_type": "markdown",
   "metadata": {},
   "source": [
    " ...és minden pozícióra rajzolunk egy sejtet:"
   ]
  },
  {
   "cell_type": "code",
   "execution_count": 26,
   "metadata": {},
   "outputs": [
    {
     "data": {
      "image/png": "[encoded data removed]",
      "text/plain": [
       "<PIL.Image.Image image mode=RGBA size=61x61 at 0x4C535F8>"
      ]
     },
     "execution_count": 26,
     "metadata": {},
     "output_type": "execute_result"
    }
   ],
   "source": [
    "draw_cells(cell_pos_list)"
   ]
  },
  {
   "cell_type": "markdown",
   "metadata": {},
   "source": [
    "## Fejlődnek a sejtjeink"
   ]
  },
  {
   "cell_type": "markdown",
   "metadata": {},
   "source": [
    "**FELADAT** Próbáljátok leimplementálni mind a négy fenti szabályt az alábbi függvényben!"
   ]
  },
  {
   "cell_type": "code",
   "execution_count": 88,
   "metadata": {},
   "outputs": [
    {
     "data": {
      "text/plain": [
       "[(1, 1), (2, 2)]"
      ]
     },
     "execution_count": 88,
     "metadata": {},
     "output_type": "execute_result"
    }
   ],
   "source": [
    "cell_pos_list = [(1, 1), (2, 2)]\n",
    "cell_pos_list"
   ]
  },
  {
   "cell_type": "code",
   "execution_count": 303,
   "metadata": {},
   "outputs": [],
   "source": [
    "def get_nhood(cells, coord):\n",
    "    nhood = []\n",
    "    xmin, ymin, xmax, ymax = get_extremes(cells)\n",
    "    for i in range (max(xmin, coord[0]-1), min(xmax+1, coord[0]+2)):\n",
    "        for j in range (max(ymin, coord[1]-1), min(ymax+1, coord[1]+2)):\n",
    "            if i != coord[0] or j != coord[1]:\n",
    "                nhood.append((i, j))\n",
    "    return nhood           "
   ]
  },
  {
   "cell_type": "code",
   "execution_count": 304,
   "metadata": {},
   "outputs": [],
   "source": [
    "def get_neighbour_number(cells, coord):\n",
    "    num_of_neighbours = 0\n",
    "    nhood = get_nhood(cells, coord)\n",
    "    for i in nhood:\n",
    "        if i in cells:\n",
    "            num_of_neighbours += 1\n",
    "    return num_of_neighbours\n",
    "\n"
   ]
  },
  {
   "cell_type": "code",
   "execution_count": 305,
   "metadata": {},
   "outputs": [
    {
     "name": "stdout",
     "output_type": "stream",
     "text": [
      "[(0, 2), (0, 3), (0, 4), (1, 2), (1, 4), (2, 2), (2, 3), (2, 4)]\n"
     ]
    }
   ],
   "source": [
    "print get_nhood(cell_pos_list, (1, 3))\n",
    "#get_neighbour_number(cell_pos_list, (1, 3))"
   ]
  },
  {
   "cell_type": "code",
   "execution_count": 306,
   "metadata": {},
   "outputs": [],
   "source": [
    "def repos(cells):\n",
    "    deltaX = 0\n",
    "    deltaY = 0\n",
    "    for i in cells:\n",
    "        if i[0] < deltaX:\n",
    "            deltaX = i[0]\n",
    "        if i[1] < deltaY:\n",
    "            deltaY = i[1]\n",
    "    \n",
    "    new = []\n",
    "    for i in cells:\n",
    "        a = i[0] - deltaX\n",
    "        b = i[1] - deltaY\n",
    "        new.append((a, b))\n",
    "    print new\n",
    "    return new"
   ]
  },
  {
   "cell_type": "code",
   "execution_count": 307,
   "metadata": {},
   "outputs": [
    {
     "data": {
      "image/png": "[encoded data removed]",
      "text/plain": [
       "<PIL.Image.Image image mode=RGBA size=81x101 at 0x15D158D0>"
      ]
     },
     "execution_count": 307,
     "metadata": {},
     "output_type": "execute_result"
    }
   ],
   "source": [
    "cell_pos_list = [(1, 2), (2, 3), (2, 4), (3, 2), (3, 3)]\n",
    "draw_cells(cell_pos_list)"
   ]
  },
  {
   "cell_type": "code",
   "execution_count": 312,
   "metadata": {},
   "outputs": [
    {
     "name": "stdout",
     "output_type": "stream",
     "text": [
      "[(1, 3), (2, 4), (3, 2), (3, 3), (3, 4)]\n"
     ]
    },
    {
     "data": {
      "image/png": "[encoded data removed]",
      "text/plain": [
       "<PIL.Image.Image image mode=RGBA size=81x101 at 0x15D15A90>"
      ]
     },
     "execution_count": 312,
     "metadata": {},
     "output_type": "execute_result"
    }
   ],
   "source": [
    "def evolve(cells):\n",
    "    new_cells = []\n",
    "    xmin, ymin, xmax, ymax = get_extremes(cells)\n",
    "    xmax, ymax = xmax+1, ymax+1\n",
    "    xmin, ymin, xmax, ymax = xmin-1, ymin-1, xmax+1, ymax+1\n",
    "    for i in range (xmin, xmax+1):\n",
    "        for j in range (ymin, ymax+1):\n",
    "            if (i, j) in cells:\n",
    "                if get_neighbour_number(cells, (i, j)) == 2 or get_neighbour_number(cells, (i, j)) == 3:\n",
    "                    new_cells.append((i, j))\n",
    "                else:\n",
    "                    continue\n",
    "            else:\n",
    "                if get_neighbour_number(cells, (i, j)) == 3:\n",
    "                    new_cells.append((i, j))\n",
    "                else:\n",
    "                    continue\n",
    "            #draw_cells(cells)\n",
    "    new_cells = repos(new_cells)\n",
    "    return new_cells\n",
    "\n",
    "new_generation = evolve(cell_pos_list)\n",
    "#evolve(cell_pos_list)\n",
    "draw_cells(new_generation)\n",
    "#draw_cells(cell_pos_list)"
   ]
  },
  {
   "cell_type": "code",
   "execution_count": 324,
   "metadata": {},
   "outputs": [
    {
     "name": "stdout",
     "output_type": "stream",
     "text": [
      "[(4, 4), (4, 6), (5, 5), (5, 6), (6, 5)]\n"
     ]
    },
    {
     "data": {
      "image/png": "[encoded data removed]",
      "text/plain": [
       "<PIL.Image.Image image mode=RGBA size=141x141 at 0x15E57828>"
      ]
     },
     "execution_count": 324,
     "metadata": {},
     "output_type": "execute_result"
    }
   ],
   "source": [
    "new_generation = evolve(new_generation)\n",
    "draw_cells(new_generation)\n"
   ]
  },
  {
   "cell_type": "markdown",
   "metadata": {},
   "source": [
    "## Fájlba írás"
   ]
  },
  {
   "cell_type": "code",
   "execution_count": 228,
   "metadata": {},
   "outputs": [
    {
     "name": "stdout",
     "output_type": "stream",
     "text": [
      "['0 0 0 0 0', '0 0 0 0 0', '0 0 0 1 0', '0 0 0 1 0']\n"
     ]
    },
    {
     "data": {
      "text/plain": [
       "'0 0 0 0 0\\n0 0 0 0 0\\n0 0 0 1 0\\n0 0 0 1 0'"
      ]
     },
     "execution_count": 228,
     "metadata": {},
     "output_type": "execute_result"
    }
   ],
   "source": [
    "xmin, ymin, xmax, ymax = get_extremes(cell_pos_list)\n",
    "lines = []\n",
    "for y in range(ymin, ymax+1):\n",
    "    linearr = []\n",
    "    for x in range(xmin, xmax+1):\n",
    "        if (x,y) in new_generation:\n",
    "            linearr.append(\"1\")\n",
    "        else:\n",
    "            linearr.append(\"0\")\n",
    "        #linearr.append(\"1\" if (x,y) in new_generation else \"0\")\n",
    "    line = ' '.join(linearr)\n",
    "    lines.append(line)\n",
    "print(lines)\n",
    "data = \"\\n\".join(lines)  \n",
    "data"
   ]
  },
  {
   "cell_type": "code",
   "execution_count": 26,
   "metadata": {},
   "outputs": [],
   "source": [
    "with open(\"1.out\",\"w\") as f:\n",
    "    f.write(data)"
   ]
  },
  {
   "cell_type": "code",
   "execution_count": 27,
   "metadata": {},
   "outputs": [
    {
     "name": "stdout",
     "output_type": "stream",
     "text": [
      "0 0 0 0 0 0\r\n",
      "0 1 0 0 0 0\r\n",
      "0 0 1 0 0 1"
     ]
    }
   ],
   "source": [
    "!cat 1.out"
   ]
  },
  {
   "cell_type": "markdown",
   "metadata": {},
   "source": [
    "**FELADAT** Javasoljatok új formátumot a sejtek pozícióinak leírására, amit könnyebb felolvasni egy szöveges fájlból, és könnyebb kiírni fájlba, és még kevesebb helyet is foglal, mint a mostani! "
   ]
  },
  {
   "cell_type": "code",
   "execution_count": null,
   "metadata": {},
   "outputs": [],
   "source": []
  }
 ],
 "metadata": {
  "kernelspec": {
   "display_name": "Python 2",
   "language": "python",
   "name": "python2"
  },
  "language_info": {
   "codemirror_mode": {
    "name": "ipython",
    "version": 2
   },
   "file_extension": ".py",
   "mimetype": "text/x-python",
   "name": "python",
   "nbconvert_exporter": "python",
   "pygments_lexer": "ipython2",
   "version": "2.7.15"
  }
 },
 "nbformat": 4,
 "nbformat_minor": 2
}
